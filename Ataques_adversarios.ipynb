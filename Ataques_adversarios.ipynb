{
  "nbformat": 4,
  "nbformat_minor": 0,
  "metadata": {
    "colab": {
      "private_outputs": true,
      "provenance": [],
      "gpuType": "T4",
      "include_colab_link": true
    },
    "kernelspec": {
      "name": "python3",
      "display_name": "Python 3"
    },
    "language_info": {
      "name": "python"
    },
    "accelerator": "GPU"
  },
  "cells": [
    {
      "cell_type": "markdown",
      "metadata": {
        "id": "view-in-github",
        "colab_type": "text"
      },
      "source": [
        "<a href=\"https://colab.research.google.com/github/EstebanmAcero/Neural_nets/blob/main/Ataques_adversarios.ipynb\" target=\"_parent\"><img src=\"https://colab.research.google.com/assets/colab-badge.svg\" alt=\"Open In Colab\"/></a>"
      ]
    },
    {
      "cell_type": "markdown",
      "source": [
        "# **Luis Esteban Molina Acero**\n",
        "# **Manuel Vélez PhD.**\n"
      ],
      "metadata": {
        "id": "TI5TPrn7qwcM"
      }
    },
    {
      "cell_type": "markdown",
      "source": [
        "# Carga de librerías:\n",
        "En esta sección, se importan las bibliotecas necesarias para realizar un ataque adversarial, incluyendo TensorFlow, NumPy, Pandas, Matplotlib, Keras, y otras"
      ],
      "metadata": {
        "id": "ugrpTsgorp1P"
      }
    },
    {
      "cell_type": "code",
      "execution_count": null,
      "metadata": {
        "id": "Eb4jFXEa31o1"
      },
      "outputs": [],
      "source": [
        "# Importar las bibliotecas necesarias\n",
        "import tensorflow         as tf  # Biblioteca principal de TensorFlow para aprendizaje automático y profundo\n",
        "import numpy              as np  # Biblioteca para manipulación de arreglos y operaciones numéricas\n",
        "import pandas             as pd  # Biblioteca para manipulación y análisis de datos tabulares\n",
        "import matplotlib.pyplot  as plt # Biblioteca para crear gráficos\n",
        "import keras             # API de alto nivel para construir y entrenar modelos de aprendizaje profundo\n",
        "import requests          # Biblioteca para realizar solicitudes HTTP\n",
        "\n",
        "# Importar módulos específicos de bibliotecas\n",
        "from PIL                  import Image        # Módulo para trabajar con imágenes\n",
        "from keras.preprocessing  import image        # Módulo para preprocesamiento de imágenes\n",
        "from io                   import BytesIO      # Módulo para trabajar con transmisión de bytes\n",
        "from keras                import backend as K # Módulo de backend de Keras para operaciones específicas\n",
        "\n",
        "# Importar el modelo preentrenado InceptionV3 y funciones útiles\n",
        "from keras.applications.inception_v3 import InceptionV3, decode_predictions, preprocess_input\n"
      ]
    },
    {
      "cell_type": "markdown",
      "source": [
        "A continuación, se carga el modelo preentrenado InceptionV3 y se muestra un resumen de su arquitectura para entender sus capas y parámetros."
      ],
      "metadata": {
        "id": "VeL_Xk4mrvW4"
      }
    },
    {
      "cell_type": "code",
      "source": [
        "iv3 = InceptionV3()"
      ],
      "metadata": {
        "id": "SaHFSaI07pK6"
      },
      "execution_count": null,
      "outputs": []
    },
    {
      "cell_type": "code",
      "source": [
        "print(iv3.summary())"
      ],
      "metadata": {
        "id": "PuUORRPV7rZE"
      },
      "execution_count": null,
      "outputs": []
    },
    {
      "cell_type": "markdown",
      "source": [
        "# Redimensionar o acomodar la imagen para el formato de predicción:\n",
        "En esta parte, se descarga una imagen de una URL, se redimensiona a las dimensiones esperadas por el modelo (299x299 píxeles), y se prepara para la predicción.\n",
        "\n"
      ],
      "metadata": {
        "id": "Swi_UgOtrzaC"
      }
    },
    {
      "cell_type": "code",
      "source": [
        "# Descargar y procesar la imagen desde una URL\n",
        "url = \"https://cdn.pixabay.com/photo/2021/09/20/23/03/car-6642036_1280.jpg\"\n",
        "response = requests.get(url)\n",
        "img = Image.open(BytesIO(response.content))\n",
        "\n",
        "# Mostrar la imagen descargada\n",
        "plt.imshow(img)\n",
        "plt.axis('off')\n",
        "plt.show()\n",
        "\n",
        "# Redimensionar la imagen a la forma esperada por el modelo InceptionV3\n",
        "img_resized = img.resize((299, 299))\n",
        "\n",
        "# Convertir la imagen redimensionada a un formato adecuado para el modelo InceptionV3\n",
        "x1 = image.img_to_array(img_resized)\n",
        "\n",
        "# Normalizar la imagen\n",
        "x1 /= 255\n",
        "x1 -= 0.5\n",
        "x1 *= 2\n",
        "\n",
        "# Reshape la imagen para el formato de entrada del modelo\n",
        "x1 = x1.reshape(1, x1.shape[0], x1.shape[1], x1.shape[2])\n",
        "\n",
        "# Cargar el modelo InceptionV3\n",
        "iv3 = InceptionV3()\n",
        "\n",
        "# Realizar predicciones en la imagen preprocesada\n",
        "y = iv3.predict(preprocess_input(x1), steps=1)\n",
        "\n",
        "\n"
      ],
      "metadata": {
        "id": "dHMtPk6O7v2S"
      },
      "execution_count": null,
      "outputs": []
    },
    {
      "cell_type": "markdown",
      "source": [
        "#Predicción en la imagen:\n",
        "Aquí, se realiza una predicción en la imagen preprocesada utilizando el modelo InceptionV3 y se almacenan los resultados."
      ],
      "metadata": {
        "id": "Cacl0LKcr5Zn"
      }
    },
    {
      "cell_type": "code",
      "source": [
        "# Suponiendo que 'y' es la salida de la red neuronal\n",
        "predictions = decode_predictions(y)\n",
        "\n",
        "# Check the number of columns in the data\n",
        "n_columns = len(predictions[0])\n",
        "\n",
        "# Crear un DataFrame con las predicciones\n",
        "df_predictions = pd.DataFrame.from_records(predictions, columns=range(n_columns))\n",
        "\n",
        "# Imprimir el DataFrame\n",
        "(df_predictions)\n"
      ],
      "metadata": {
        "id": "x1rLFsjno5ge"
      },
      "execution_count": null,
      "outputs": []
    },
    {
      "cell_type": "code",
      "source": [
        "\n",
        "\n",
        "# Suponiendo que 'y' es la salida de la red neuronal\n",
        "predictions = decode_predictions(y)\n",
        "\n",
        "# Crear un DataFrame con las predicciones\n",
        "df_predicciones = pd.DataFrame(columns=['Número', 'Etiqueta', 'Probabilidad'])\n",
        "\n",
        "# Llenar el DataFrame con las predicciones decodificadas\n",
        "for i, (imagenet_id, etiqueta, probabilidad) in enumerate(predictions[0]):\n",
        "    df_predicciones = df_predicciones.append({\n",
        "        'Número': i + 1,\n",
        "        'Etiqueta': etiqueta,\n",
        "        'Probabilidad': probabilidad\n",
        "    }, ignore_index=True)\n",
        "\n",
        "# Imprimir el DataFrame\n",
        "print(df_predicciones)\n"
      ],
      "metadata": {
        "id": "y57XLPvi9BUq"
      },
      "execution_count": null,
      "outputs": []
    },
    {
      "cell_type": "markdown",
      "source": [
        "# Romper el modelo (Ataque Adversario):\n",
        "En esta sección, se lleva a cabo un ataque adversario para manipular la imagen de entrada y generar una imagen que engañe al modelo."
      ],
      "metadata": {
        "id": "2UoSUm4WsBI5"
      }
    },
    {
      "cell_type": "markdown",
      "source": [
        "Vamos a romper el modelo y para eso se va a implementar la técnica de los ataques de adversarios.\n",
        "\n",
        "\n",
        "Permite generar un tipo de datos diferentes de manera tal que confunde a la red en cuanto a la clasificación de las clases.\n",
        "\n",
        "Lo que se va a realizar es que los parametros de entrada para optimizar o reducir el error van a cambiar, los pixeles van a  cambiar.\n",
        "\n",
        "\n"
      ],
      "metadata": {
        "id": "_SGYb7I6B5NB"
      }
    },
    {
      "cell_type": "code",
      "source": [
        "tf.compat.v1.disable_eager_execution()"
      ],
      "metadata": {
        "id": "H5QqISY1dnY-"
      },
      "execution_count": null,
      "outputs": []
    },
    {
      "cell_type": "code",
      "source": [
        "# Obtener la capa de entrada y salida del modelo InceptionV3\n",
        "inp_layer = iv3.layers[0].input\n",
        "out_layer = iv3.layers[-1].output\n",
        "\n",
        "# Especificar la clase objetivo para la adversarial attack\n",
        "target_class = 951\n",
        "\n",
        "# Definir la función de pérdida: la probabilidad de la clase objetivo\n",
        "loss = out_layer[0, target_class]\n",
        "\n",
        "# Calcular el gradiente de la pérdida con respecto a la entrada\n",
        "grad = K.gradients(loss, inp_layer)[0]\n",
        "\n",
        "# Crear una función para optimizar el gradiente y calcular la pérdida\n",
        "optimize_gradient = K.function([inp_layer, K.learning_phase()], [grad, loss])\n",
        "\n",
        "# Crear una copia de la imagen original para la adversarial attack\n",
        "adv = np.copy(x1)\n",
        "\n",
        "# Definir la perturbación máxima permitida\n",
        "pert = 0.01\n",
        "max_pert = x1 + 0.01\n",
        "min_pert = x1 - 0.01\n",
        "\n",
        "# Inicializar la variable de costo\n",
        "cost = 0.0\n",
        "\n",
        "# Iterar hasta que el costo sea mayor o igual a 0.95\n",
        "while cost < 0.95:\n",
        "    # Obtener el gradiente y la pérdida optimizados\n",
        "    gr, cost = optimize_gradient([adv, 0])\n",
        "\n",
        "    # Actualizar la imagen adversarial con el gradiente optimizado\n",
        "    adv += gr\n",
        "\n",
        "    # Limitar la imagen adversarial dentro de los límites de perturbación\n",
        "    adv = np.clip(adv, min_pert, max_pert)\n",
        "    adv = np.clip(adv, -1, 1)\n",
        "\n",
        "    # Imprimir el costo en cada iteración\n",
        "    print(\"Target cost:\", cost)\n",
        "\n",
        "# Crear una copia de la imagen adversarial después de la adversarial attack\n",
        "hacked_img = np.copy(adv)\n"
      ],
      "metadata": {
        "id": "XCagkmTMEg79"
      },
      "execution_count": null,
      "outputs": []
    },
    {
      "cell_type": "markdown",
      "source": [
        "#Restablecer adv y mostrar la imagen nuevamente:\n",
        "Finalmente, se realiza la inversión de las transformaciones realizadas durante el ataque adversario y se muestra la imagen adversarial generada."
      ],
      "metadata": {
        "id": "irb_ra-gsJwK"
      }
    },
    {
      "cell_type": "code",
      "source": [
        "# Dividir todos los elementos de la matriz 'adv' por 2\n",
        "adv /= 2\n",
        "\n",
        "# Sumar 0.5 a todos los elementos de la matriz 'adv'\n",
        "adv += 0.5\n",
        "\n",
        "# Multiplicar todos los elementos de la matriz 'adv' por 255\n",
        "adv *= 255\n"
      ],
      "metadata": {
        "id": "VK0pzHwPGcXv"
      },
      "execution_count": null,
      "outputs": []
    },
    {
      "cell_type": "code",
      "source": [
        "# Mostrar la imagen adversarial después de las transformaciones\n",
        "plt.imshow(adv[0].astype(np.uint8))\n",
        "\n",
        "# Mostrar la imagen\n",
        "plt.show()\n"
      ],
      "metadata": {
        "id": "xmew-RN4EhTA"
      },
      "execution_count": null,
      "outputs": []
    },
    {
      "cell_type": "code",
      "source": [
        "# Crear un objeto de imagen a partir de la matriz de píxeles de la imagen adversarial\n",
        "im = Image.fromarray(adv[0].astype(np.uint8))\n",
        "\n",
        "# Guardar la imagen en un archivo llamado \"hacked.png\"\n",
        "im.save(\"./hacked.png\")\n"
      ],
      "metadata": {
        "id": "_ZIwfVkCEhsL"
      },
      "execution_count": null,
      "outputs": []
    },
    {
      "cell_type": "markdown",
      "source": [
        "# **Fallo en el intento de Optimización**\n",
        "\n",
        "En el código, se ha buscado modularizar el proceso al crear funciones que permiten cargar imágenes tanto desde una ubicación específica como desde una URL. Estas imágenes se redimensionan y se utilizan para realizar predicciones utilizando el modelo InceptionV3, con los resultados almacenados en un DataFrame. Se implementa un ataque adversario para manipular la imagen y observar cómo afecta a las predicciones del modelo. Sin embargo, se ha observado que el modelo tiende a confundirse y no logra reconocer objetos en otras imágenes, a pesar de que se diseñó para adaptarse a cualquier imagen. Este comportamiento inesperado no se comprende y abordar las posibles razones detrás de esta confusión del modelo es tema de estudio."
      ],
      "metadata": {
        "id": "lwaYSoUQAuBE"
      }
    },
    {
      "cell_type": "code",
      "source": [
        "import tensorflow as tf\n",
        "import numpy as np\n",
        "import pandas as pd\n",
        "import matplotlib.pyplot as plt\n",
        "from PIL import Image\n",
        "from keras.preprocessing import image\n",
        "from io import BytesIO\n",
        "from keras import backend as K\n",
        "from keras.applications.inception_v3 import InceptionV3, decode_predictions, preprocess_input\n",
        "import requests\n",
        "\n",
        "\n",
        "\n",
        "def load_image_from_url(url):\n",
        "    response = requests.get(url)\n",
        "    img = Image.open(BytesIO(response.content))\n",
        "    img = img.convert('RGB')\n",
        "    img = img.resize((299, 299))  # Redimensionar la imagen\n",
        "    img_array = image.img_to_array(img)\n",
        "    return img_array\n",
        "\n",
        "\n",
        "\n",
        "def preprocess_image(img):\n",
        "    # Hacer una copia del array para evitar problemas de redimensionamiento\n",
        "    img_copy = np.copy(img)\n",
        "\n",
        "    # Redimensionar la imagen a la forma esperada por el modelo InceptionV3\n",
        "    img_resized = Image.fromarray(img_copy.astype('uint8')).resize((299, 299))\n",
        "\n",
        "    # Convertir la imagen redimensionada a un formato adecuado para el modelo InceptionV3\n",
        "    x = image.img_to_array(img_resized)\n",
        "\n",
        "    # Expandir las dimensiones para crear un lote (batch)\n",
        "    x = np.expand_dims(x, axis=0)\n",
        "\n",
        "    # Preprocesar la imagen utilizando la función preprocess_input de Keras\n",
        "    x = preprocess_input(x)\n",
        "\n",
        "    return x\n",
        "\n",
        "\n",
        "\n",
        "def predict_image(model, img_array):\n",
        "    # Redimensionar y preprocesar la imagen\n",
        "    x = preprocess_input(np.expand_dims(img_array, axis=0))\n",
        "\n",
        "    # Realizar predicciones en la imagen preprocesada\n",
        "    predictions = model.predict(x)\n",
        "\n",
        "    # Decodificar las predicciones\n",
        "    decoded_predictions = decode_predictions(predictions)\n",
        "\n",
        "    # Crear un DataFrame con las predicciones\n",
        "    df_predictions = pd.DataFrame(columns=['Número', 'Etiqueta', 'Probabilidad'])\n",
        "\n",
        "    # Llenar el DataFrame con las predicciones decodificadas\n",
        "    for i, (imagenet_id, etiqueta, probabilidad) in enumerate(decoded_predictions[0]):\n",
        "        df_predictions = df_predictions.append({\n",
        "            'Número': i + 1,\n",
        "            'Etiqueta': etiqueta,\n",
        "            'Probabilidad': probabilidad\n",
        "        }, ignore_index=True)\n",
        "\n",
        "    return df_predictions\n",
        "\n",
        "\n",
        "\n",
        "\n",
        "\n",
        "def adversarial_attack(model, img, target_class=951, perturbation=0.01):\n",
        "    inp_layer = model.layers[0].input\n",
        "    out_layer = model.layers[-1].output\n",
        "\n",
        "    # Definir la función de pérdida: la probabilidad de la clase objetivo\n",
        "    loss = out_layer[0, target_class]\n",
        "\n",
        "    # Calcular el gradiente de la pérdida con respecto a la entrada\n",
        "    grad = K.gradients(loss, inp_layer)[0]\n",
        "\n",
        "    # Crear una función para optimizar el gradiente y calcular la pérdida\n",
        "    optimize_gradient = K.function([inp_layer, K.learning_phase()], [grad, loss])\n",
        "\n",
        "    # Crear una copia de la imagen original para la adversarial attack\n",
        "    adv = np.copy(img)\n",
        "\n",
        "    # Definir los límites de perturbación\n",
        "    max_pert = img + perturbation\n",
        "    min_pert = img - perturbation\n",
        "\n",
        "    # Inicializar la variable de costo\n",
        "    cost = 0.0\n",
        "\n",
        "    # Iterar hasta que el costo sea mayor o igual a 0.95\n",
        "    while cost < 0.95:\n",
        "        gr, cost = optimize_gradient([adv, 0])\n",
        "        adv += gr\n",
        "        adv = np.clip(adv, min_pert, max_pert)\n",
        "        adv = np.clip(adv, -1, 1)\n",
        "        print(\"Target cost:\", cost)\n",
        "\n",
        "    # Deshacer las transformaciones en la imagen adversarial\n",
        "    adv /= 2\n",
        "    adv += 0.5\n",
        "    adv *= 255\n",
        "\n",
        "    return adv\n",
        "\n",
        "\n",
        "# Cargar el modelo InceptionV3\n",
        "model_iv3 = InceptionV3()\n",
        "\n",
        "# URL de la imagen a procesar\n",
        "url = \"https://images.unsplash.com/photo-1583121274602-3e2820c69888?q=80&w=3570&auto=format&fit=crop&ixlib=rb-4.0.3&ixid=M3wxMjA3fDB8MHxwaG90by1wYWdlfHx8fGVufDB8fHx8fA%3D%3D\"\n",
        "\n",
        "# Cargar la imagen desde la URL\n",
        "image_from_url = load_image_from_url(url)\n",
        "\n",
        "# Predicciones en la imagen original\n",
        "df_predictions_original = predict_image(model_iv3, image_from_url)\n",
        "print(\"Predicciones en la imagen original:\")\n",
        "print(df_predictions_original)\n",
        "\n",
        "# Mostrar la imagen original\n",
        "plt.imshow(image_from_url)\n",
        "plt.axis('off')\n",
        "plt.title(\"Imagen Original\")\n",
        "plt.show()\n",
        "\n",
        "# Predicciones en la imagen original\n",
        "df_predictions_original = predict_image(model_iv3, image_from_url)\n",
        "print(\"Predicciones en la imagen original:\")\n",
        "print(df_predictions_original)\n",
        "\n",
        "# Procesar la imagen para el ataque adversario\n",
        "processed_image = preprocess_image(image_from_url)\n",
        "tf.compat.v1.disable_eager_execution()\n",
        "# Ataque adversario\n",
        "adversarial_image = adversarial_attack(model_iv3, processed_image)\n",
        "\n",
        "# Mostrar la imagen adversarial\n",
        "plt.imshow(adversarial_image[0].astype(np.uint8))\n",
        "plt.axis('off')\n",
        "plt.title(\"Imagen Adversarial\")\n",
        "plt.show()\n",
        "\n",
        "# Predicciones en la imagen adversarial\n",
        "df_predictions_adversarial = predict_image(model_iv3, adversarial_image)\n",
        "print(\"Predicciones en la imagen adversarial:\")\n",
        "print(df_predictions_adversarial)\n"
      ],
      "metadata": {
        "id": "14Bq7U_vAuo7"
      },
      "execution_count": null,
      "outputs": []
    },
    {
      "cell_type": "code",
      "source": [
        "\n",
        "def predecir_imagen(ruta_imagen):\n",
        "    # Cargar la imagen desde la ruta\n",
        "    img = image.load_img(ruta_imagen, target_size=(299, 299))\n",
        "\n",
        "    # Convertir la imagen a un arreglo NumPy usando img_to_array\n",
        "    x1 = image.img_to_array(img)\n",
        "\n",
        "    # Realizar el preprocesamiento de la imagen\n",
        "    x1 /= 255\n",
        "    x1 -= 0.5\n",
        "    x1 *= 2\n",
        "    x1 = np.expand_dims(x1, axis=0)  # Añadir una dimensión adicional para representar el lote (batch)\n",
        "\n",
        "    # Crear un modelo InceptionV3 preentrenado\n",
        "    iv3 = InceptionV3()\n",
        "\n",
        "    # Realizar la predicción\n",
        "    y = iv3.predict(preprocess_input(x1))\n",
        "\n",
        "    # Decodificar las predicciones\n",
        "    predicciones_decodificadas = decode_predictions(y)\n",
        "\n",
        "    # Imprimir las predicciones decodificadas\n",
        "    for i, (imagenet_id, etiqueta, probabilidad) in enumerate(predicciones_decodificadas[0]):\n",
        "        print(f\"{i + 1}: {etiqueta} ({probabilidad:.2f})\")\n",
        "\n",
        "# Ejemplo de uso\n",
        "ruta_imagen_ejemplo = '/content/hacked.png'\n",
        "predecir_imagen(ruta_imagen_ejemplo)\n"
      ],
      "metadata": {
        "id": "07mKPct5AEcP"
      },
      "execution_count": null,
      "outputs": []
    },
    {
      "cell_type": "code",
      "source": [
        "from tensorflow.keras.preprocessing.image import img_to_array\n",
        "\n",
        "def process_image_url(url):\n",
        "    # Download the image using requests\n",
        "    response = requests.get(url)\n",
        "    img = Image.open(BytesIO(response.content))\n",
        "\n",
        "    # Resize the image to the target size\n",
        "    img = img.resize((299, 299))\n",
        "\n",
        "    # Convert the PIL image to a NumPy array using image.img_to_array\n",
        "    x1 = img_to_array(img)\n",
        "\n",
        "    # Normalize the image\n",
        "    x1 /= 255\n",
        "    x1 -= 0.5\n",
        "    x1 *= 2\n",
        "\n",
        "    # Reshape the array for the model input\n",
        "    x1 = x1.reshape(1, x1.shape[0], x1.shape[1], x1.shape[2])\n",
        "\n",
        "    # Load the InceptionV3 model\n",
        "    iv3 = InceptionV3()\n",
        "\n",
        "    # Make predictions\n",
        "#    y = iv3.predict(preprocess_input(x1))\n",
        "    y = iv3.predict(preprocess_input(x1), steps=1)\n",
        "\n",
        "\n",
        "    # Decode and print predictions\n",
        "    predictions = decode_predictions(y)\n",
        "    #print(predictions)\n",
        "    # Crear un DataFrame con las predicciones\n",
        "    df_predicciones = pd.DataFrame(columns=['Número', 'Etiqueta', 'Probabilidad'])\n",
        "\n",
        "    # Llenar el DataFrame con las predicciones decodificadas\n",
        "    for i, (imagenet_id, etiqueta, probabilidad) in enumerate(predictions[0]):\n",
        "\n",
        "        df_predicciones = pd.concat([df_predicciones, pd.DataFrame({\n",
        "            'Número': [i + 1],\n",
        "            'Etiqueta': [etiqueta],\n",
        "            'Probabilidad': [probabilidad]\n",
        "        })], ignore_index=True)\n",
        "\n",
        "    return df_predicciones\n",
        "\n",
        "\n",
        "\n",
        "url = \"https://images.unsplash.com/photo-1583121274602-3e2820c69888?q=80&w=3570&auto=format&fit=crop&ixlib=rb-4.0.3&ixid=M3wxMjA3fDB8MHxwaG90by1wYWdlfHx8fGVufDB8fHx8fA%3D%3D\"\n",
        "\n",
        "# Mostrar la imagen antes de procesarla\n",
        "response = requests.get(url)\n",
        "img = Image.open(BytesIO(response.content))\n",
        "plt.imshow(img)\n",
        "plt.axis('off')\n",
        "plt.show()\n",
        "\n",
        "a = process_image_url(url)\n",
        "a\n"
      ],
      "metadata": {
        "id": "JwQF0s0vTcRW"
      },
      "execution_count": null,
      "outputs": []
    }
  ]
}